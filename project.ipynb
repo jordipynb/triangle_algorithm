{
 "cells": [
  {
   "attachments": {},
   "cell_type": "markdown",
   "metadata": {},
   "source": [
    "### Problema\n",
    "**El Triángulo**  \n",
    "Javier estaba un día practicando con su instrumento favorito: el triángulo. El triángulo es un instrumento musical tan espectacular que sus notas se escriben como números enteros. Este día Javier se propuso componer una canción de una forma bastante peculiar. Tomó $n$ enteros (notas) aleatorios y los escribió en una lista $a$. Una melodía válida es una subsecuencia de $a$ en la que todos sus números adyacentes cumplen que:\n",
    "* Se diferencian en 1.\n",
    "* Son congruentes módulo 7.\n",
    "\n",
    "La canción de Javier debe contener exactamente 4 melodías que cumplan con lo anterior y además no intercepten entre sí. Ayude a Javier encontrando una canción que maximice las notas usadas.\n",
    "\n",
    "\n",
    "Consideraciones\n",
    "* Se asume que la secuencia de notas tiene longitud mayor o igual que 4.\n",
    "* La solución implementada devuelve la cantidad máxima de notas en la canción."
   ]
  },
  {
   "attachments": {},
   "cell_type": "markdown",
   "metadata": {},
   "source": [
    "### Modelación y Correctitud\n",
    "Con el objetivo de maximizar las subsecuencias que se pueden extraer de $a$ sin que se intercepten, se debe tener en cuenta crear un grafo dirigido $G$ que respete este criterio, por lo que todos los valores $a_i$ son vértices de $G$ ya que cada uno por si solo es una subsecuencia de $a$.\n",
    "Luego cada uno de estos vértices podría formar una subsecuencia con otros vértices cuyo valor este en una posición superior en el array y cumpla los requisitos expuestos en el problema, finalmente:\n",
    "* $G$ grafo del sistema\n",
    "* $\\forall i,j ~\\in~ a$: $~~~i \\rightarrow j \\in A(G)~~$ si $~~i < j~~$ y se cumple que: $~|a_i - a_j| = 1~~$ o $~~(a_i - a_j)\\%7 = 0$\n",
    "* $cap(u,v)$ función de capacidad en la arista\n",
    "* $cost(u,v)$ se agrega la función del costo para tomar en cuenta esta arista en la secuencia\n",
    "\n",
    "Para la resolución de este problema se realizará un algoritmo de flujo máximo (en este caso 4) con costo mínimo.  \n",
    "Redefinamos el grafo original de la siguiente forma:\n",
    "* $G_f = <V,A>$ una red de flujo\n",
    "* $s$: fuente $\\in V(G_f)$\n",
    "* $t$: receptor $\\in V(G_f)~$ al cual solo llega flujo máximo 4, que son las 4 subsecuencias que se desea encontrar\n",
    "* $\\forall v_i \\in V(G)$ se divide en $v_{i1} \\in G_f$ y $v_{i2} \\in G_f$ y se adiciona una arista dirigida $v_{i1} \\rightarrow v_{i2} \\in A(G_f)$ donde $~cap(v_{i1},v_{i2}) = 1~$ y $~cost(v_{i1},v_{i2}) = -1~$ que representa la decisión de tomar este elemento como parte de la subsecuencia a formar\n",
    "* $\\forall v_i \\in V(G)~$ se tiene $~s \\rightarrow v_{i1} \\in A(G_f)~$ ya que, como se mencionó anteriormente, cada elemento por si solo puede ser una subsecuencia o el punto de partida de una, donde $~cap(s,v_{i1}) = 1~$ y $~cost(s,v_{i1}) = 0$\n",
    "* $\\forall i,j~~$ si $v_i \\rightarrow v_j \\in A(G)$ entonces $~v_{i2} \\rightarrow v_{j1} \\in A(G_f)~$ con $~cap(v_{i2},v_{j1}) = 1~$ y $~cost(v_{i2},v_{j1}) = 0$\n",
    "* $\\forall v_i \\in V(G)~$ se tiene $~v_{i2} \\rightarrow t \\in A(G_f)~$ para terminar la subsecuencia, donde $~cap(v_{i2},t) = 1~$ y $~cost(v_{i2},t) = 0$\n",
    "\n",
    "Luego, en la red residual para cada cada arista de retroceso de las aristas $~u \\rightarrow v$ se cumple que $cap_{0}(v,u) = 0 $ y $cost(v,u) =  ~-cost(u,v)$ \n",
    "\n",
    "La idea tras la modelación anterior está asociada, a que cada vez que se utiliza una nota en un camino aumentativo se disminuye el costo de dicho camino, por lo que el algoritmo trataría en todo momento de maximizar el flujo a 4 con el menor costo posible (es decir con la mayor cantidad de notas). \n",
    "\n",
    "La diferencia de este algoritmo con el algoritmo de flujo máximo clásico, es que cuando se computa un camino aumentativo, en lugar de buscar el camino mas corto hacia el destino (usando BFS), se busca el camino de costo mínimo hacia el destino (usando el algoritmo de Bellman-Ford en este caso, dado que existen aristas con costo negativo).\n",
    "\n",
    "El grafo original es un DAG, dado que solo se tienen aristas en una sola dirección (hacia delante) en la lista de notas. Luego en la red residual se forman ciclos con la introducción de las aristas de retroceso, pero el costo del ciclo formado por una arista del grafo original y su arista de retroceso es cero ($cost(v,u) =  ~-cost(u,v)$). Por tanto, es posible utilizar Bellman-Ford para encontrar un camino de costo mínimo en la red residual, dado que se garantiza que no existen ciclos de costo negativo en dicha red.\n"
   ]
  },
  {
   "attachments": {},
   "cell_type": "markdown",
   "metadata": {},
   "source": [
    "### Solución\n",
    "Una posible implementación del algoritmo es la siguiente:"
   ]
  },
  {
   "attachments": {},
   "cell_type": "markdown",
   "metadata": {},
   "source": [
    "Para la creación del grafo y partiendo de las aclaraciones realizadas en la sección anterior, se recibe una lista de enteros que representa las notas, por cuestión de comodidad y sabiendo que las aristas solo conectarán a un $a_i$ con un $a_j$ donde $i < j$, es fácil notar que si se tiene un array (o en este caso, un diccionario) con todas las posiciones de los vértices, se podría distinguir entre una arista del grafo y una de retroceso, por los valores de sus posiciones.\n",
    "Construimos el grafo de la red residual con una iteración lineal inversa: conectamos los vértices duplicados, la fuente y el receptor con los vértices adecuados entre ambos (creando también, ambos tipos de aristas) y por cada iteración, se conectan con la posición de las notas que tienen valor $+1$, $-1$, $\\%7$ a dicho valor que se han ido guardando a lo largo de la iteración (que tendrán posición superior).  \n",
    "En el peor de los casos cada nota podría relacionarse con todos sus superiores, este algoritmo tiene un costo de $O(n * (n-1)) \\rightarrow O(n^2-n)$ donde $n = |a|$.\n",
    " \n",
    "Notar que la cantidad de aristas de la red residual resultante, es $O(n^2)$"
   ]
  },
  {
   "cell_type": "code",
   "execution_count": 1,
   "metadata": {},
   "outputs": [],
   "source": [
    "from collections import defaultdict as dd\n",
    "from math import inf\n",
    "class edge:\n",
    "    def __init__(self, cap:int, cost:int):\n",
    "        self.cap = cap\n",
    "        self.cost = cost\n",
    "\n",
    "def add_edge(graph:dict[int, dict[int, edge]], v:int, u:int, cap:int, cost:int):\n",
    "    graph[v][u] = edge(cap,  cost) \n",
    "    graph[u][v] = edge(  0, -cost)\n",
    "\n",
    "def add_edge_list(graph:dict[int, dict[int, edge]], v:int, index:list[int]):\n",
    "    for elem in index: add_edge(graph, v, elem, 1, 0)\n",
    "\n",
    "def create_residual_graph(a:list[int]):\n",
    "    graph:dict[int, dict[int, edge]] = dd(lambda:dd(lambda:None)) \n",
    "    n = len(a)\n",
    "    s = 0\n",
    "    t = 2*n+1\n",
    "    d = 2*n+2\n",
    "    refer:dict[int, list[int]] = dd(list)          \n",
    "    modul:dict[int, list[int]] = dd(list)        \n",
    "\n",
    "    for i in range(n, 0, -1):\n",
    "        value = a[i-1]\n",
    "        add_edge(graph, s, 2*i-1, 1, 0)       \n",
    "        add_edge(graph, 2*i-1, 2*i, 1, -1)    \n",
    "        add_edge(graph, 2*i, t, 1, 0)     \n",
    "          \n",
    "        ig = refer[value+1]\n",
    "        il = refer[value-1]\n",
    "        im = modul[value%7]\n",
    "        \n",
    "        if len(ig) > 0: add_edge_list(graph, 2*i, ig)\n",
    "        if len(il) > 0: add_edge_list(graph, 2*i, il)\n",
    "        if len(im) > 0: add_edge_list(graph, 2*i, im)\n",
    "        refer[value].append(2*i-1)\n",
    "        modul[value%7].append(2*i-1)     \n",
    "    add_edge(graph, t, d, 4, 0)\n",
    "\n",
    "    return graph, s, d"
   ]
  },
  {
   "attachments": {},
   "cell_type": "markdown",
   "metadata": {},
   "source": [
    "Algoritmo Bellman-Ford\n",
    "\n",
    "La complejidad computacional de este algoritmo es $O(|V||E|)$, en este caso la cantidad de aristas en el grafo residual es $O(|V|^2)$ y la cantidad de vértices es $O(n)$ (donde n es la longitud de la secuencia de entrada), luego la complejidad es $O(n^{3})$."
   ]
  },
  {
   "cell_type": "code",
   "execution_count": 2,
   "metadata": {},
   "outputs": [],
   "source": [
    "def Bellman_Ford(G:dict[int, dict[int, edge]], s:int):\n",
    "    d = dd(lambda:inf)\n",
    "    d[s] = 0\n",
    "    pi = dd(lambda:None)\n",
    "    for _ in range(len(G.keys())-1):\n",
    "        for v1,edges in G.items():\n",
    "            for v2,p in edges.items():\n",
    "                if not p==None and not p.cap == 0 and not d[v1]==inf and d[v2]> d[v1]+ p.cost:\n",
    "                    d[v2]=d[v1]+p.cost\n",
    "                    pi[v2]=v1\n",
    "    for v1,edges in G.items():\n",
    "        for v2,p in edges.items():\n",
    "            if not p==None and not p.cap == 0 and not d[v2]==inf and not d[v1]==inf and  d[v2]>d[v1]+p.cost:\n",
    "                return None\n",
    "    return pi"
   ]
  },
  {
   "attachments": {},
   "cell_type": "markdown",
   "metadata": {},
   "source": [
    "Algoritmo MinCost-MaxFlow\n",
    "\n",
    "\n",
    "El costo de esta implementación es igual la cantidad de veces que se ejecuta el ciclo while multiplicado por el costo del algoritmo find_path, adicionado a C(create_residual_graph)+ $O(n^{2})$, donde $n$ es la cantidad de vértices del grafo original.\n",
    "\n",
    "En cada iteración del ciclo while el flujo que se pasa por la red original aumenta en la capacidad del camino aumentativo en cuestión, que es como mínimo 1. Luego la cantidad máxima de veces que se ejecuta este ciclo es igual al valor del flujo máximo, en este caso un valor constante 4.\n",
    "\n",
    "El algoritmo find_path computa el camino de costo mínimo hasta el destino en la red residual (O($n^{3}$)) y luego reconstruye dicho camino ($O(n^{2})$), por lo cual el costo es O($n^{3}$), donde $n$ es el tamaño de la secuencia de entrada.\n",
    "\n",
    "Finalmente, y teniendo en cuenta que C(create_residual_graph)=$O(n^{2})$, la complejidad del algoritmo es O($n^{3}$)"
   ]
  },
  {
   "cell_type": "code",
   "execution_count": 3,
   "metadata": {},
   "outputs": [],
   "source": [
    "def min_cost_flow(a:list[int],residual_graph):\n",
    "    G_f, s, t = residual_graph(a)\n",
    "    output = 0\n",
    "    flow = dd(lambda:dd(lambda:None))\n",
    "\n",
    "    for v1,edges in G_f.items():\n",
    "        for v2,_ in edges.items():\n",
    "            if v2 > v1: flow[v1][v2]=0\n",
    "    \n",
    "    path, cap = find_path(G_f, s, t)   \n",
    "    while not len(path)==0:\n",
    "        for v1, v2 in path:\n",
    "            if  v2 < v1: \n",
    "                if G_f[v1][v2].cost == -1: output-=1\n",
    "                flow[v2][v1] -= cap  \n",
    "                G_f[v1][v2].cap = G_f[v1][v2].cap - cap   \n",
    "                G_f[v2][v1].cap = G_f[v2][v1].cap + cap   \n",
    "            else:                   \n",
    "                if G_f[v1][v2].cost == -1: output+=1\n",
    "                flow[v1][v2] += cap                   \n",
    "                G_f[v1][v2].cap = G_f[v1][v2].cap - cap    \n",
    "                G_f[v2][v1].cap = G_f[v2][v1].cap + cap     \n",
    "        path, cap = find_path(G_f, s, t)   \n",
    "    return flow, output\n",
    "\n",
    "def find_path(G:dict[int, dict[int, edge]], s:int, t:int):\n",
    "    pi = Bellman_Ford(G, s)\n",
    "    cap = inf\n",
    "    path = []\n",
    "    if not pi[t]==None:\n",
    "        current = t\n",
    "        while not current == s:\n",
    "            previous = pi[current]\n",
    "            cap = min(G[previous][current].cap,cap)\n",
    "            path.append((previous,current))\n",
    "            current=previous\n",
    "    return path,cap"
   ]
  },
  {
   "attachments": {},
   "cell_type": "markdown",
   "metadata": {},
   "source": [
    "### Probemos algunos ejemplos:"
   ]
  },
  {
   "cell_type": "code",
   "execution_count": 4,
   "metadata": {},
   "outputs": [
    {
     "name": "stdout",
     "output_type": "stream",
     "text": [
      "7\n",
      "100\n"
     ]
    }
   ],
   "source": [
    "a = [1,3,5,4,4,7,9,11]\n",
    "result,max = min_cost_flow(a,create_residual_graph)\n",
    "print(max)\n",
    "a=[1]*100\n",
    "result,max = min_cost_flow(a,create_residual_graph)\n",
    "print(max)"
   ]
  },
  {
   "attachments": {},
   "cell_type": "markdown",
   "metadata": {},
   "source": [
    "### Mejoras\n",
    "Una posible forma de mejorar la complejidad del algoritmo es disminuir el orden de la cantidad de aristas del grafo original. Para ello hay un grupo de cuestiones a tener en cuenta: \n",
    "\n",
    "Sean:\n",
    "* $n_{i}$ la nota que corresponde a la posición $i$ de la secuencia de entrada \n",
    "* $n_{j}~|~ n_{j}=n_{i}+1 \\wedge \\forall n_{k}~ (k>i \\wedge n_{k}=n_{i}+1 \\Rightarrow k>j)$\n",
    "* $n_{l}~|~ n_{l}=n_{i}-1 \\wedge \\forall n_{k}~ (k>i \\wedge n_{k}=n_{i}-1 \\Rightarrow k>l)$\n",
    "* $n_{p}~|~ n_{p}\\equiv n_{i}(7) \\wedge \\forall n_{k}~ (k>i \\wedge n_{k}\\equiv n_{i}(7)\\Rightarrow k>p)$\n",
    "\n",
    "\n",
    "Entonces  $\\forall n_{k}|~ |n_{k}-n_{i}|=0  \\vee n_{k}\\equiv n_{i}(7) $ se cumple que:\n",
    "\n",
    "Si $|n_{k}-n_{i}|=0$ entonces $n_{k}=n_{i}+1 \\vee n_{k}=n_{i}-1  $:\n",
    "\n",
    "* $n_{k}=n_{i}+1 \\Rightarrow n_{k}=n_{j}$\n",
    "* $n_{k}=n_{i}-1 \\Rightarrow n_{k}=n_{l}$\n",
    "\n",
    "\n",
    "Si $n_{k}\\equiv n_{i}(7)$ entonces $n_{k}\\equiv n_{p}(7)$\n",
    "\n",
    "Luego si desde cada nota $n_{i}$ tenemos una arista hacia cada una de las notas $n_{j}$, $n_{l}$, $n_{p}$ y desde cada una de ellas tenemos aristas hacia cada una de las notas del mismo valor o que dejan el mismo resto al dividirlas entre 7, logramos que cada una de las notas alcanzables desde $n_{i}$ sean alcanzables desde alguna de las notas $n_{j}$, $n_{l}$ o $n_{p}$. \n",
    "\n",
    "Por tanto en el grafo por cada nota $n_{i}$ tendremos 4 vértices:\n",
    "\n",
    "* $v_{i,1}$: vértice al que llegarán todas las aristas provenientes de vértices  $v_{j,1}$ tales que $n_{j}$ coincide con $n_{i}$  y las aristas provenientes de vértices $v_{j,4}$ tales que la diferencia modular entre $n_{j}$ y $n_{i}$ es 1.\n",
    " Desde este vérice se tiene una arista hacia el siguiente vértice $v_{j,1}$, tal que $n_{i} = n_{j}$\n",
    "\n",
    "* $v_{i,2}$: vértice al que llegarán todas las aristas provenientes de vértices  $v_{j,2}$ cuyo valor  $n_{j}$ es congruente módulo 7 con $n_{i}$.\n",
    " Desde este vérice se tiene una arista hacia el siguiente vértice $v_{j,2}$, tal que $n_{i} \\equiv n_{j} (7)$\n",
    "\n",
    "* $v_{i,3}$ vértice al que están conectados los dos anteriores, mediante una arista de costo 0 y capacidad 1, cada uno respectivamente. El vértice auxiliar usado como origen, también tiene una arista de costo 0 y capacidad 1 hacia este vértice.\n",
    "\n",
    "* $v_{i,4}$ vértice al que está conectado $v_{3}$, mediante una arista con costo -1 y capacidad 1, que análogamente a la primera modelación vista, representa la inclusión de esta nota en la canción.\n",
    "Desde este vérice se tienen aristas hacia los próximos vértices $v_{j,1}$, \n",
    "$v_{k,1}$ y $v_{l,2}$ tales que $n_{i}= n_{j}-1$, $n_{i}= n_{k}+1$ y $n_{i} \\equiv n_{l} (7)$ respectivamente. También se incluye la arista hacia el vértice auxiliar de salida.\n",
    "\n",
    "Nota: Todas las aristas para las cuales no se especificó costo ni capacidad tienen valores de 0 y 1 respectivamente.\n",
    "\n",
    " Luego, por cada una de las notas, se tienen a lo sumo 6 aristas que salen de alguno de los vértices especificados anteriormente, de manera que la cantidad de aristas del grafo resultante es $O(n)$, donde n es la cantidad de notas en la secuencia  de entrada.\n",
    "\n",
    "\n"
   ]
  },
  {
   "attachments": {},
   "cell_type": "markdown",
   "metadata": {},
   "source": [
    "### Complejidad \n",
    "\n",
    "La reducción del orden de la cantidad de aristas en el grafo (ahora $O(n)$) permite que el algoritmo mejorado tenga complejidad $O(n^2)$, dado que ahora el algoritmo Bellman-Ford tiene complejidad $O(n^2)$."
   ]
  },
  {
   "attachments": {},
   "cell_type": "markdown",
   "metadata": {},
   "source": [
    "### Implementación\n",
    "Para obtener una implementación con esta mejora solo necesitamos cambiar el método residual_graph que se usa en el algoritmo min_cost_flow, por otro que logre modelar el grafo como se describe anteriormente: "
   ]
  },
  {
   "cell_type": "code",
   "execution_count": 5,
   "metadata": {},
   "outputs": [],
   "source": [
    "def create_reduce_residual_graph(a:list[int]):\n",
    "    graph:dict[int, dict[int, edge]] = dd(lambda:dd(lambda:None))  \n",
    "    n = len(a)\n",
    "    s = 0\n",
    "    t = 4*n+1\n",
    "    d = 4*n+2\n",
    "    refer:dict[int, int] = {}          \n",
    "    modul:dict[int, int] = {}         \n",
    "\n",
    "    for i in range(n, 0, -1):\n",
    "        value = a[i-1]\n",
    "        add_edge(graph, s, 4*i-1, 1, 0)              \n",
    "        add_edge(graph, 4*i-3, 4*i-1, 1, 0)          \n",
    "        add_edge(graph, 4*i-2, 4*i-1, 1, 0)\n",
    "        add_edge(graph, 4*i-1, 4*i, 1, -1) \n",
    "        add_edge(graph, 4*i, t, 1, 0)            \n",
    "        \n",
    "        iequal_valid = igreater_valid = ilower_valid = imodule_valid = False  \n",
    "        try:\n",
    "            ie = refer[value]\n",
    "            iequal_valid = True\n",
    "        except: None\n",
    "        try:\n",
    "            ig = refer[value+1]\n",
    "            igreater_valid = True\n",
    "        except: None\n",
    "        try:\n",
    "            il = refer[value-1]\n",
    "            ilower_valid = True\n",
    "        except: None\n",
    "        try:\n",
    "            im = modul[value%7]\n",
    "            imodule_valid = True\n",
    "        except: None\n",
    "        \n",
    "        if iequal_valid: add_edge(graph, 4*i-2, 4*ie-2, 4, 0)\n",
    "        if igreater_valid and (not iequal_valid or ig < ie): add_edge(graph, 4*i, 4*ig-2, 1, 0)\n",
    "        if ilower_valid   and (not iequal_valid or il < ie): add_edge(graph, 4*i, 4*il-2, 1, 0)\n",
    "        if imodule_valid: \n",
    "            add_edge(graph, 4*i-3, 4*im-3, 4, 0)\n",
    "            add_edge(graph, 4*i, 4*im-3, 1, 0)\n",
    "        refer[value] = modul[value%7] = i\n",
    "    add_edge(graph, t, d, 4, 0)\n",
    "    return graph, s, d"
   ]
  },
  {
   "attachments": {},
   "cell_type": "markdown",
   "metadata": {},
   "source": [
    "### Probemos algunos ejemplos:"
   ]
  },
  {
   "cell_type": "code",
   "execution_count": 6,
   "metadata": {},
   "outputs": [
    {
     "name": "stdout",
     "output_type": "stream",
     "text": [
      "7\n",
      "100\n",
      "1000\n"
     ]
    }
   ],
   "source": [
    "a = [1,3,5,4,4,7,9,11]\n",
    "result,max = min_cost_flow(a,create_reduce_residual_graph)\n",
    "print(max)\n",
    "a=[1]*100\n",
    "result,max = min_cost_flow(a,create_reduce_residual_graph)\n",
    "print(max)\n",
    "a=[1]*1000\n",
    "result,max = min_cost_flow(a,create_reduce_residual_graph)\n",
    "print(max)"
   ]
  }
 ],
 "metadata": {
  "kernelspec": {
   "display_name": "Python 3",
   "language": "python",
   "name": "python3"
  },
  "language_info": {
   "codemirror_mode": {
    "name": "ipython",
    "version": 3
   },
   "file_extension": ".py",
   "mimetype": "text/x-python",
   "name": "python",
   "nbconvert_exporter": "python",
   "pygments_lexer": "ipython3",
   "version": "3.11.2"
  },
  "orig_nbformat": 4,
  "vscode": {
   "interpreter": {
    "hash": "9e7e89d086fbe206dd00d0c8be4c7451c6c7021dee9600074f19d5094c31f982"
   }
  }
 },
 "nbformat": 4,
 "nbformat_minor": 2
}
