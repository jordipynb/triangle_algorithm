{
 "cells": [
  {
   "attachments": {},
   "cell_type": "markdown",
   "metadata": {},
   "source": [
    "### Problema\n",
    "**El Triángulo**  \n",
    "Javier estaba un día practicando con su instrumento favorito: el triángulo. El triángulo es un instrumento musical tan espectacular que sus notas se escriben como números enteros. Este día Javier se propuso componer una canción de una forma bastante peculiar. Tomó $n$ enteros (notas) aleatorios y los escribió en una lista $a$. Una melodía válida es una subsecuencia de $a$ en la que todos sus números adyacentes cumplen que:\n",
    "* Se diferencian en 1.\n",
    "* Son congruentes módulo 7.\n",
    "\n",
    "La canción de Javier debe contener exactamente 4 melodías que cumplan con lo anterior y además no intercepten entre sí. Ayude a Javier encontrando una canción que maximice las notas usadas."
   ]
  },
  {
   "attachments": {},
   "cell_type": "markdown",
   "metadata": {},
   "source": [
    "### Modelación\n",
    "Con el objetivo de maximizar las subsecuencias que se pueden extraer de $a$ sin que se intercepten, se debe tener en cuenta crear un grafo dirigido $G$ que respete este criterio, por lo que todos los valores $a_i$ son vértices de $G$ ya que cada uno por si solo es una subsecuencia de $a$.\n",
    "Luego cada uno de estos vértices podría formar una subsecuencia con otros vértices cuyo valor este en una posición superior en el array y cumpla los requisitos expuestos en el problema, finalmente:\n",
    "* $G$ grafo del sistema\n",
    "* $\\forall i,j ~\\in~ a$: $~~~i \\rightarrow j \\in A(G)~~$ si $~~i < j~~$ y se cumple que: $~|a_i - a_j| = 1~~$ o $~~(a_i - a_j)\\%7 = 0$\n",
    "* $cap(u,v)$ función de capacidad en la arista\n",
    "* $cost(u,v)$ se agrega la función de costo al tener en cuenta esta arista en la secuencia\n",
    "\n",
    "Para la resolución de este problema se realizaría un algoritmo de flujo máximo (en este caso 4) con el menor costo:\n",
    "* $G_f = <V,A>$ una red de flujo\n",
    "* $s$: fuente $\\in V(G_f)$\n",
    "* $t$: receptor $\\in V(G_f)~$ al cual solo llega flujo máximo 4, que son las 4 subsecuencias que se desea encontrar\n",
    "* $\\forall v_i \\in V(G)$ se divide en $v_{i1} \\in G_f$ y $v_{i2} \\in G_f$ y se adiciona una arista dirigida $v_{i1} \\rightarrow v_{i2} \\in A(G_f)$ donde $~cap(v_{i1},v_{i2}) = 1~$ y $~cost(v_{i1},v_{i2}) = -1~$ que representa la decisión de tomar este elemento como parte de la subsecuencia a formar\n",
    "* $\\forall v_i \\in V(G)~$ se tiene $~s \\rightarrow v_{i1} \\in A(G_f)~$ ya que, como se mencionó anteriormente, cada elemento por si solo puede ser una subsecuencia o el punto de partida de una, donde $~cap(s,v_{i1}) = 1~$ y $~cost(s,v_{i1}) = 0$\n",
    "* $\\forall i,j~~$ si $v_i \\rightarrow v_j \\in A(G)$ entonces $~v_{i2} \\rightarrow v_{j1} \\in A(G_f)~$ con $~cap(v_{i2},v_{j1}) = 1~$ y $~cost(v_{i2},v_{j1}) = 0$\n",
    "* $\\forall v_i \\in V(G)~$ se tiene $~v_{i2} \\rightarrow t \\in A(G_f)~$ para terminar la subsecuencia, donde $~cap(v_{i2},t) = 1~$ y $~cost(v_{i2},t) = 0$\n",
    "\n",
    "La idea tras la modelación anterior esta asociada, a que mientras mayor sea la secuencia formada menor costo tendrá, por lo que el algoritmo trataría nen todo momento de maximizar el flujo a 4 con el menor costo posible: para ello usamos el algoritmo Bellman-Ford"
   ]
  },
  {
   "attachments": {},
   "cell_type": "markdown",
   "metadata": {},
   "source": []
  }
 ],
 "metadata": {
  "kernelspec": {
   "display_name": "Python 3",
   "language": "python",
   "name": "python3"
  },
  "language_info": {
   "name": "python",
   "version": "3.11.2"
  },
  "orig_nbformat": 4,
  "vscode": {
   "interpreter": {
    "hash": "9e7e89d086fbe206dd00d0c8be4c7451c6c7021dee9600074f19d5094c31f982"
   }
  }
 },
 "nbformat": 4,
 "nbformat_minor": 2
}
