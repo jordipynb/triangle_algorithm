{
 "cells": [
  {
   "cell_type": "code",
   "execution_count": null,
   "metadata": {},
   "outputs": [],
   "source": []
  }
 ],
 "metadata": {
  "kernelspec": {
   "display_name": "Python 3",
   "language": "python",
   "name": "python3"
  },
  "language_info": {
   "name": "python",
   "version": "3.11.2"
  },
  "orig_nbformat": 4,
  "vscode": {
   "interpreter": {
    "hash": "9e7e89d086fbe206dd00d0c8be4c7451c6c7021dee9600074f19d5094c31f982"
   }
  }
 },
 "nbformat": 4,
 "nbformat_minor": 2
}
