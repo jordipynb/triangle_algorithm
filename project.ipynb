{
 "cells": [
  {
   "attachments": {},
   "cell_type": "markdown",
   "metadata": {},
   "source": [
    "### Problema\n",
    "**El Triángulo**  \n",
    "Javier estaba un día practicando con su instrumento favorito: el triángulo. El triángulo es un instrumento musical tan espectacular que sus notas se escriben como números enteros. Este día Javier se propuso componer una canción de una forma bastante peculiar. Tomó $n$ enteros (notas) aleatorios y los escribió en una lista $a$. Una melodía válida es una subsecuencia de $a$ en la que todos sus números adyacentes cumplen que:\n",
    "* Se diferencian en 1.\n",
    "* Son congruentes módulo 7.\n",
    "\n",
    "La canción de Javier debe contener exactamente 4 melodías que cumplan con lo anterior y además no intercepten entre sí. Ayude a Javier encontrando una canción que maximice las notas usadas.\n",
    "\n",
    "\n",
    "Se asume que:\n",
    "* La secuencia de notas tiene longitud mayor o igual que 4.\n",
    "* La solución implementada devuelve la cantidad máxima de notas en la canción."
   ]
  },
  {
   "attachments": {},
   "cell_type": "markdown",
   "metadata": {},
   "source": [
    "### Modelación y Correctitud\n",
    "Con el objetivo de maximizar las subsecuencias que se pueden extraer de $a$ sin que se intercepten, se debe tener en cuenta crear un grafo dirigido $G$ que respete este criterio, por lo que todos los valores $a_i$ son vértices de $G$ ya que cada uno por si solo es una subsecuencia de $a$.\n",
    "Luego cada uno de estos vértices podría formar una subsecuencia con otros vértices cuyo valor este en una posición superior en el array y cumpla los requisitos expuestos en el problema, finalmente:\n",
    "* $G$ grafo del sistema\n",
    "* $\\forall i,j ~\\in~ a$: $~~~i \\rightarrow j \\in A(G)~~$ si $~~i < j~~$ y se cumple que: $~|a_i - a_j| = 1~~$ o $~~(a_i - a_j)\\%7 = 0$\n",
    "* $cap(u,v)$ función de capacidad en la arista\n",
    "* $cost(u,v)$ se agrega la función del costo para tomar en cuenta esta arista en la secuencia\n",
    "\n",
    "Para la resolución de este problema se realizará un algoritmo de flujo máximo (en este caso 4) con costo mínimo.  \n",
    "Redefinamos el grafo original de la siguiente forma:\n",
    "* $G_f = <V,A>$ una red de flujo\n",
    "* $s$: fuente $\\in V(G_f)$\n",
    "* $t$: receptor $\\in V(G_f)~$ al cual solo llega flujo máximo 4, que son las 4 subsecuencias que se desea encontrar\n",
    "* $\\forall v_i \\in V(G)$ se divide en $v_{i1} \\in G_f$ y $v_{i2} \\in G_f$ y se adiciona una arista dirigida $v_{i1} \\rightarrow v_{i2} \\in A(G_f)$ donde $~cap(v_{i1},v_{i2}) = 1~$ y $~cost(v_{i1},v_{i2}) = -1~$ que representa la decisión de tomar este elemento como parte de la subsecuencia a formar\n",
    "* $\\forall v_i \\in V(G)~$ se tiene $~s \\rightarrow v_{i1} \\in A(G_f)~$ ya que, como se mencionó anteriormente, cada elemento por si solo puede ser una subsecuencia o el punto de partida de una, donde $~cap(s,v_{i1}) = 1~$ y $~cost(s,v_{i1}) = 0$\n",
    "* $\\forall i,j~~$ si $v_i \\rightarrow v_j \\in A(G)$ entonces $~v_{i2} \\rightarrow v_{j1} \\in A(G_f)~$ con $~cap(v_{i2},v_{j1}) = 1~$ y $~cost(v_{i2},v_{j1}) = 0$\n",
    "* $\\forall v_i \\in V(G)~$ se tiene $~v_{i2} \\rightarrow t \\in A(G_f)~$ para terminar la subsecuencia, donde $~cap(v_{i2},t) = 1~$ y $~cost(v_{i2},t) = 0$\n",
    "\n",
    "Luego, en la red residual para cada cada arista de retroceso $~u \\rightarrow v$ se cumple que $cap_{0}(v,u) = 0 $ y $cost(v,u) =  ~-cost(u,v)$ \n",
    "\n",
    "La idea tras la modelación anterior esta asociada, a que cada vez que se utiliza una nota en un camino aumentativo se disminuye el costo de dicho camino, por lo que el algoritmo trataría en todo momento de maximizar el flujo a 4 con el menor costo posible (es decir con la mayor cantidad de notas). \n",
    "\n",
    "La diferencia de este algoritmo con el algoritmo de flujo máximo clásico, es que cuando se computa un camino aumentativo, en lugar de buscar el camino mas corto hacia el destino (usando BFS), se busca el camino de costo mínimo hacia el destino (usando el algoritmo de Bellman-Ford en este caso, dado que existen aristas con costo negativo).\n",
    "\n",
    "El grafo original es un DAG, dado que solo se tienen aristas en una sola dirección (hacia delante) en la lista de notas. Luego en la red residual se forman ciclos con la introducción de las aristas de retroceso, pero el costo del ciclo formado por una arista del grafo original y su arista de retroceso es cero ($cost(v,u) =  ~-cost(u,v)$). Por tanto, es posible utilizar Bellman-Ford para encontrar un camino de costo mínimo en la red residual, dado que se garantiza que no existen ciclos de costo negativo en dicha red.\n"
   ]
  },
  {
   "attachments": {},
   "cell_type": "markdown",
   "metadata": {},
   "source": [
    "### Solución\n",
    "Una posible implementación del algoritmo es la siguiente:"
   ]
  },
  {
   "attachments": {},
   "cell_type": "markdown",
   "metadata": {},
   "source": [
    "Creación del grafo Explicaciooooooooooooooooooooooooooooooooooooooooooooooooonnnnnnnnnnnnnnnnnnnnnnnnnnn"
   ]
  },
  {
   "cell_type": "code",
   "execution_count": null,
   "metadata": {},
   "outputs": [],
   "source": [
    "from collections import defaultdict as dd\n",
    "from math import inf\n",
    "class edge:\n",
    "    def __init__(self, cap:int, cost:int):\n",
    "        self.cap = cap\n",
    "        self.cost = cost\n",
    "\n",
    "def add_edge(graph:dict[int, dict[int, edge]], v:int, u:int, cap:int, cost:int):\n",
    "    graph[v][u] = edge(cap,  cost) # arista del grafo v -> u\n",
    "    graph[u][v] = edge(  0, -cost) # arista inversa del grafo residual u -> v\n",
    "\n",
    "def add_edge_list(graph:dict[int, dict[int, edge]], v:int, index:list[int]):\n",
    "    for elem in index: add_edge(graph, v, elem, 1, 0)\n",
    "\n",
    "def create_residual_graph(a:list[int]):\n",
    "    graph:dict[int, dict[int, edge]] = dd(lambda:dd(lambda:None))  # grafo residual donde por cada nota hay 2 vertices y cada arista tiene su inversa\n",
    "    n = len(a)\n",
    "    s = 0\n",
    "    t = 2*n+1\n",
    "    d = 2*n+2\n",
    "    refer:dict[int, list[int]] = dd(list)          \n",
    "    modul:dict[int, list[int]] = dd(list)        \n",
    "\n",
    "    for i in range(n, 0, -1):\n",
    "        value = a[i-1]\n",
    "        add_edge(graph, s, 2*i-1, 1, 0)       # este es vi,1\n",
    "        add_edge(graph, 2*i-1, 2*i, 1, -1)    # este es vi,2\n",
    "        add_edge(graph, 2*i, t, 1, 0)     \n",
    "          \n",
    "        ig = refer[value+1]\n",
    "        il = refer[value-1]\n",
    "        im = modul[value%7]\n",
    "        \n",
    "        if len(ig) > 0: add_edge_list(graph, 2*i, ig)\n",
    "        if len(il) > 0: add_edge_list(graph, 2*i, il)\n",
    "        if len(im) > 0: add_edge_list(graph, 2*i, im)\n",
    "        refer[value].append(2*i-1)\n",
    "        modul[value%7].append(2*i-1)     \n",
    "    add_edge(graph, t, d, 4, 0)\n",
    "\n",
    "    return graph, s, d"
   ]
  },
  {
   "attachments": {},
   "cell_type": "markdown",
   "metadata": {},
   "source": [
    "Algoritmo Bellman-Ford\n",
    "\n",
    "La complejidad computacional de este algoritmo es $O(|V||E|)$ "
   ]
  },
  {
   "cell_type": "code",
   "execution_count": null,
   "metadata": {},
   "outputs": [],
   "source": [
    "def Bellman_Ford(G:dict[int, dict[int, edge]], s:int):\n",
    "    d = dd(lambda:inf)\n",
    "    d[s] = 0\n",
    "    pi = dd(lambda:None)\n",
    "    for _ in range(len(G.keys())-1):\n",
    "        for v1,edges in G.items():\n",
    "            for v2,p in edges.items():\n",
    "                if not p==None and not p.cap == 0 and not d[v1]==inf and d[v2]> d[v1]+ p.cost:\n",
    "                    d[v2]=d[v1]+p.cost\n",
    "                    pi[v2]=v1\n",
    "    for v1,edges in G.items():\n",
    "        for v2,p in edges.items():\n",
    "            if not p==None and not p.cap == 0 and not d[v2]==inf and not d[v1]==inf and  d[v2]>d[v1]+p.cost:\n",
    "                return None\n",
    "    return pi"
   ]
  },
  {
   "attachments": {},
   "cell_type": "markdown",
   "metadata": {},
   "source": [
    "Algoritmo MinCost-MaxFlow\n",
    "\n",
    "\n",
    "El costo de esta implementación es igual la cantidad de veces que se ejecuta el ciclo while multiplicado por el costo del algoritmo find_path, adicionado a C(create_residual_graph)+O(n^{2}), donde $n$ es  $n$ la cantidad de vértices del grafo original.\n",
    "\n",
    "En cada iteración del ciclo while el flujo que se pasa por la red original aumenta en la capacidad del camino aumentativo en cuestión, que es como mínimo 1. Luego la cantida máxima de veces que se ejecuta este ciclo es igual al valor del flujo máximo, en este caso un valor constante menor que 4.\n",
    "\n",
    "El algoritmo find_path computa el camino de costo mínimo hasta el destino en la red residual ($m^{2}n$) y luego reconstruye dicho camino (O(m^{2})), por lo cual el costo es O($m^{2}n$), donde $m$ es la cantidad de aristas del grafo original y $n$ la cantidad de vértices.\n",
    "\n",
    "Finalmente la complejidad del algoritmo es O($m^{2}n$)"
   ]
  },
  {
   "cell_type": "code",
   "execution_count": null,
   "metadata": {},
   "outputs": [],
   "source": [
    "def min_cost_flow(a:list[int]):\n",
    "    G_f, s, t = create_residual_graph(a)\n",
    "    output = 0\n",
    "    flow = dd(lambda:dd(lambda:None))\n",
    "\n",
    "    for v1,edges in G_f.items():\n",
    "        for v2,_ in edges.items():\n",
    "            if v2 > v1: flow[v1][v2]=0\n",
    "    \n",
    "    path, cap = find_path(G_f, s, t)   \n",
    "    while not len(path)==0:\n",
    "        for v1, v2 in path:\n",
    "            if  v2 < v1: # la arista no esta en la red original por tanto es una arista de retroceso\n",
    "                if G_f[v1][v2].cost == -1: output-=1\n",
    "                flow[v2][v1] -= cap  #actualizar red original \n",
    "                G_f[v1][v2].cap = G_f[v1][v2].cap - cap   #actualizar arista de retroceso en la red residual\n",
    "                G_f[v2][v1].cap = G_f[v2][v1].cap + cap   #actualizar arista original en la red residual\n",
    "            else:                    # no es una arista de retroceso \n",
    "                if G_f[v1][v2].cost == -1: output+=1\n",
    "                flow[v1][v2] += cap      #actualizar arista en la red original             \n",
    "                G_f[v1][v2].cap = G_f[v1][v2].cap - cap     #actualizar arista original en la red residual\n",
    "                G_f[v2][v1].cap = G_f[v2][v1].cap + cap      #actualizar arista de retroceso en la red residual\n",
    "        path, cap = find_path(G_f, s, t)   \n",
    "    return flow, output\n",
    "\n",
    "def find_path(G:dict[int, dict[int, edge]], s:int, t:int):\n",
    "    pi = Bellman_Ford(G, s)\n",
    "    cap = inf\n",
    "    path = []\n",
    "    if not pi[t]==None:\n",
    "        current = t\n",
    "        while not current == s:\n",
    "            previous = pi[current]\n",
    "            cap = min(G[previous][current].cap,cap)\n",
    "            path.append((previous,current))\n",
    "            current=previous\n",
    "    return path,cap"
   ]
  },
  {
   "attachments": {},
   "cell_type": "markdown",
   "metadata": {},
   "source": []
  },
  {
   "cell_type": "code",
   "execution_count": null,
   "metadata": {},
   "outputs": [],
   "source": []
  },
  {
   "attachments": {},
   "cell_type": "markdown",
   "metadata": {},
   "source": [
    "### Mejoras"
   ]
  }
 ],
 "metadata": {
  "kernelspec": {
   "display_name": "Python 3",
   "language": "python",
   "name": "python3"
  },
  "language_info": {
   "name": "python",
   "version": "3.11.2"
  },
  "orig_nbformat": 4,
  "vscode": {
   "interpreter": {
    "hash": "9e7e89d086fbe206dd00d0c8be4c7451c6c7021dee9600074f19d5094c31f982"
   }
  }
 },
 "nbformat": 4,
 "nbformat_minor": 2
}
